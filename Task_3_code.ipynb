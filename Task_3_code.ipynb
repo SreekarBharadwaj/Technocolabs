{
  "cells": [
    {
      "cell_type": "markdown",
      "id": "000d18ea",
      "metadata": {},
      "source": [
        "Task 3:"
      ]
    },
    {
      "cell_type": "code",
      "execution_count": 1,
      "id": "52f06deb",
      "metadata": {
        "id": "52f06deb"
      },
      "outputs": [],
      "source": [
        "import numpy as pd\n",
        "import pandas as pd\n",
        "import matplotlib.pyplot as plt\n",
        "import seaborn as sns\n",
        "import warnings\n",
        "warnings.filterwarnings(\"ignore\")"
      ]
    },
    {
      "cell_type": "code",
      "execution_count": 2,
      "id": "f376af4a",
      "metadata": {
        "id": "f376af4a",
        "scrolled": true
      },
      "outputs": [],
      "source": [
        "df=pd.read_csv('Bondora_raw.csv')"
      ]
    },
    {
      "cell_type": "markdown",
      "id": "a14c21c6",
      "metadata": {
        "id": "a14c21c6"
      },
      "source": [
        "# TASK 1- DATA PREPROCESSING"
      ]
    },
    {
      "cell_type": "code",
      "execution_count": 3,
      "id": "b34cc554",
      "metadata": {
        "id": "b34cc554",
        "outputId": "7791bbc6-6c3b-4a69-b033-e92acb93f560"
      },
      "outputs": [
        {
          "data": {
            "text/plain": [
              "112"
            ]
          },
          "execution_count": 3,
          "metadata": {},
          "output_type": "execute_result"
        }
      ],
      "source": [
        "len(df.columns)"
      ]
    },
    {
      "cell_type": "code",
      "execution_count": 4,
      "id": "c56204db",
      "metadata": {
        "id": "c56204db",
        "outputId": "568363db-5d3d-49a1-df7b-2a9de2cfc581"
      },
      "outputs": [
        {
          "data": {
            "text/plain": [
              "Index(['ReportAsOfEOD', 'LoanId', 'LoanNumber', 'ListedOnUTC',\n",
              "       'BiddingStartedOn', 'BidsPortfolioManager', 'BidsApi', 'BidsManual',\n",
              "       'UserName', 'NewCreditCustomer',\n",
              "       ...\n",
              "       'PreviousEarlyRepaymentsCountBeforeLoan', 'GracePeriodStart',\n",
              "       'GracePeriodEnd', 'NextPaymentDate', 'NextPaymentNr',\n",
              "       'NrOfScheduledPayments', 'ReScheduledOn', 'PrincipalDebtServicingCost',\n",
              "       'InterestAndPenaltyDebtServicingCost', 'ActiveLateLastPaymentCategory'],\n",
              "      dtype='object', length=112)"
            ]
          },
          "execution_count": 4,
          "metadata": {},
          "output_type": "execute_result"
        }
      ],
      "source": [
        "df.columns"
      ]
    },
    {
      "cell_type": "code",
      "execution_count": 5,
      "id": "74d9cbda",
      "metadata": {
        "id": "74d9cbda",
        "outputId": "92a1626c-d591-46f4-9928-960a818c02ea"
      },
      "outputs": [
        {
          "data": {
            "text/plain": [
              "RangeIndex(start=0, stop=134529, step=1)"
            ]
          },
          "execution_count": 5,
          "metadata": {},
          "output_type": "execute_result"
        }
      ],
      "source": [
        "df.index"
      ]
    },
    {
      "cell_type": "code",
      "execution_count": 6,
      "id": "aab29c11",
      "metadata": {
        "id": "aab29c11",
        "outputId": "88b70d35-c3c9-4952-9293-644fc6c08f80",
        "scrolled": true
      },
      "outputs": [
        {
          "data": {
            "text/html": [
              "<div>\n",
              "<style scoped>\n",
              "    .dataframe tbody tr th:only-of-type {\n",
              "        vertical-align: middle;\n",
              "    }\n",
              "\n",
              "    .dataframe tbody tr th {\n",
              "        vertical-align: top;\n",
              "    }\n",
              "\n",
              "    .dataframe thead th {\n",
              "        text-align: right;\n",
              "    }\n",
              "</style>\n",
              "<table border=\"1\" class=\"dataframe\">\n",
              "  <thead>\n",
              "    <tr style=\"text-align: right;\">\n",
              "      <th></th>\n",
              "      <th>ReportAsOfEOD</th>\n",
              "      <th>LoanId</th>\n",
              "      <th>LoanNumber</th>\n",
              "      <th>ListedOnUTC</th>\n",
              "      <th>BiddingStartedOn</th>\n",
              "      <th>BidsPortfolioManager</th>\n",
              "      <th>BidsApi</th>\n",
              "      <th>BidsManual</th>\n",
              "      <th>UserName</th>\n",
              "      <th>NewCreditCustomer</th>\n",
              "      <th>...</th>\n",
              "      <th>PreviousEarlyRepaymentsCountBeforeLoan</th>\n",
              "      <th>GracePeriodStart</th>\n",
              "      <th>GracePeriodEnd</th>\n",
              "      <th>NextPaymentDate</th>\n",
              "      <th>NextPaymentNr</th>\n",
              "      <th>NrOfScheduledPayments</th>\n",
              "      <th>ReScheduledOn</th>\n",
              "      <th>PrincipalDebtServicingCost</th>\n",
              "      <th>InterestAndPenaltyDebtServicingCost</th>\n",
              "      <th>ActiveLateLastPaymentCategory</th>\n",
              "    </tr>\n",
              "  </thead>\n",
              "  <tbody>\n",
              "    <tr>\n",
              "      <th>0</th>\n",
              "      <td>2020-01-27</td>\n",
              "      <td>F0660C80-83F3-4A97-8DA0-9C250112D6EC</td>\n",
              "      <td>659</td>\n",
              "      <td>2009-06-11 16:40:39</td>\n",
              "      <td>2009-06-11 16:40:39</td>\n",
              "      <td>0</td>\n",
              "      <td>0</td>\n",
              "      <td>115.0410</td>\n",
              "      <td>KARU</td>\n",
              "      <td>True</td>\n",
              "      <td>...</td>\n",
              "      <td>0</td>\n",
              "      <td>NaN</td>\n",
              "      <td>NaN</td>\n",
              "      <td>NaN</td>\n",
              "      <td>NaN</td>\n",
              "      <td>NaN</td>\n",
              "      <td>NaN</td>\n",
              "      <td>0.0</td>\n",
              "      <td>0.0</td>\n",
              "      <td>NaN</td>\n",
              "    </tr>\n",
              "    <tr>\n",
              "      <th>1</th>\n",
              "      <td>2020-01-27</td>\n",
              "      <td>978BB85B-1C69-4D51-8447-9C240104A3A2</td>\n",
              "      <td>654</td>\n",
              "      <td>2009-06-10 15:48:57</td>\n",
              "      <td>2009-06-10 15:48:57</td>\n",
              "      <td>0</td>\n",
              "      <td>0</td>\n",
              "      <td>140.6057</td>\n",
              "      <td>koort681</td>\n",
              "      <td>False</td>\n",
              "      <td>...</td>\n",
              "      <td>0</td>\n",
              "      <td>NaN</td>\n",
              "      <td>NaN</td>\n",
              "      <td>NaN</td>\n",
              "      <td>NaN</td>\n",
              "      <td>NaN</td>\n",
              "      <td>NaN</td>\n",
              "      <td>0.0</td>\n",
              "      <td>0.0</td>\n",
              "      <td>NaN</td>\n",
              "    </tr>\n",
              "    <tr>\n",
              "      <th>2</th>\n",
              "      <td>2020-01-27</td>\n",
              "      <td>EA44027E-7FA7-4BB2-846D-9C1F013C8A22</td>\n",
              "      <td>641</td>\n",
              "      <td>2009-06-05 19:12:29</td>\n",
              "      <td>2009-06-05 19:12:29</td>\n",
              "      <td>0</td>\n",
              "      <td>0</td>\n",
              "      <td>319.5580</td>\n",
              "      <td>0ie</td>\n",
              "      <td>True</td>\n",
              "      <td>...</td>\n",
              "      <td>0</td>\n",
              "      <td>NaN</td>\n",
              "      <td>NaN</td>\n",
              "      <td>NaN</td>\n",
              "      <td>NaN</td>\n",
              "      <td>NaN</td>\n",
              "      <td>NaN</td>\n",
              "      <td>0.0</td>\n",
              "      <td>0.0</td>\n",
              "      <td>180+</td>\n",
              "    </tr>\n",
              "    <tr>\n",
              "      <th>3</th>\n",
              "      <td>2020-01-27</td>\n",
              "      <td>CE67AD25-2951-4BEE-96BD-9C2700C61EF4</td>\n",
              "      <td>668</td>\n",
              "      <td>2009-06-13 12:01:20</td>\n",
              "      <td>2009-06-13 12:01:20</td>\n",
              "      <td>0</td>\n",
              "      <td>0</td>\n",
              "      <td>57.5205</td>\n",
              "      <td>Alyona</td>\n",
              "      <td>True</td>\n",
              "      <td>...</td>\n",
              "      <td>0</td>\n",
              "      <td>NaN</td>\n",
              "      <td>NaN</td>\n",
              "      <td>NaN</td>\n",
              "      <td>NaN</td>\n",
              "      <td>NaN</td>\n",
              "      <td>NaN</td>\n",
              "      <td>0.0</td>\n",
              "      <td>0.0</td>\n",
              "      <td>NaN</td>\n",
              "    </tr>\n",
              "    <tr>\n",
              "      <th>4</th>\n",
              "      <td>2020-01-27</td>\n",
              "      <td>9408BF8C-B159-4D6A-9D61-9C2400A986E3</td>\n",
              "      <td>652</td>\n",
              "      <td>2009-06-10 10:17:13</td>\n",
              "      <td>2009-06-10 10:17:13</td>\n",
              "      <td>0</td>\n",
              "      <td>0</td>\n",
              "      <td>319.5582</td>\n",
              "      <td>Kai</td>\n",
              "      <td>True</td>\n",
              "      <td>...</td>\n",
              "      <td>0</td>\n",
              "      <td>NaN</td>\n",
              "      <td>NaN</td>\n",
              "      <td>NaN</td>\n",
              "      <td>NaN</td>\n",
              "      <td>NaN</td>\n",
              "      <td>NaN</td>\n",
              "      <td>0.0</td>\n",
              "      <td>0.0</td>\n",
              "      <td>180+</td>\n",
              "    </tr>\n",
              "  </tbody>\n",
              "</table>\n",
              "<p>5 rows × 112 columns</p>\n",
              "</div>"
            ],
            "text/plain": [
              "  ReportAsOfEOD                                LoanId  LoanNumber  \\\n",
              "0    2020-01-27  F0660C80-83F3-4A97-8DA0-9C250112D6EC         659   \n",
              "1    2020-01-27  978BB85B-1C69-4D51-8447-9C240104A3A2         654   \n",
              "2    2020-01-27  EA44027E-7FA7-4BB2-846D-9C1F013C8A22         641   \n",
              "3    2020-01-27  CE67AD25-2951-4BEE-96BD-9C2700C61EF4         668   \n",
              "4    2020-01-27  9408BF8C-B159-4D6A-9D61-9C2400A986E3         652   \n",
              "\n",
              "           ListedOnUTC     BiddingStartedOn  BidsPortfolioManager  BidsApi  \\\n",
              "0  2009-06-11 16:40:39  2009-06-11 16:40:39                     0        0   \n",
              "1  2009-06-10 15:48:57  2009-06-10 15:48:57                     0        0   \n",
              "2  2009-06-05 19:12:29  2009-06-05 19:12:29                     0        0   \n",
              "3  2009-06-13 12:01:20  2009-06-13 12:01:20                     0        0   \n",
              "4  2009-06-10 10:17:13  2009-06-10 10:17:13                     0        0   \n",
              "\n",
              "   BidsManual  UserName  NewCreditCustomer  ...  \\\n",
              "0    115.0410      KARU               True  ...   \n",
              "1    140.6057  koort681              False  ...   \n",
              "2    319.5580       0ie               True  ...   \n",
              "3     57.5205    Alyona               True  ...   \n",
              "4    319.5582       Kai               True  ...   \n",
              "\n",
              "  PreviousEarlyRepaymentsCountBeforeLoan GracePeriodStart GracePeriodEnd  \\\n",
              "0                                      0              NaN            NaN   \n",
              "1                                      0              NaN            NaN   \n",
              "2                                      0              NaN            NaN   \n",
              "3                                      0              NaN            NaN   \n",
              "4                                      0              NaN            NaN   \n",
              "\n",
              "  NextPaymentDate NextPaymentNr NrOfScheduledPayments  ReScheduledOn  \\\n",
              "0             NaN           NaN                   NaN            NaN   \n",
              "1             NaN           NaN                   NaN            NaN   \n",
              "2             NaN           NaN                   NaN            NaN   \n",
              "3             NaN           NaN                   NaN            NaN   \n",
              "4             NaN           NaN                   NaN            NaN   \n",
              "\n",
              "   PrincipalDebtServicingCost  InterestAndPenaltyDebtServicingCost  \\\n",
              "0                         0.0                                  0.0   \n",
              "1                         0.0                                  0.0   \n",
              "2                         0.0                                  0.0   \n",
              "3                         0.0                                  0.0   \n",
              "4                         0.0                                  0.0   \n",
              "\n",
              "   ActiveLateLastPaymentCategory  \n",
              "0                            NaN  \n",
              "1                            NaN  \n",
              "2                           180+  \n",
              "3                            NaN  \n",
              "4                           180+  \n",
              "\n",
              "[5 rows x 112 columns]"
            ]
          },
          "execution_count": 6,
          "metadata": {},
          "output_type": "execute_result"
        }
      ],
      "source": [
        "df.head()"
      ]
    },
    {
      "cell_type": "code",
      "execution_count": 7,
      "id": "c0bcb2be",
      "metadata": {
        "id": "c0bcb2be",
        "outputId": "3f20f082-51dc-4c9a-c8d0-3f336b5124e9",
        "scrolled": true
      },
      "outputs": [
        {
          "name": "stdout",
          "output_type": "stream",
          "text": [
            "<class 'pandas.core.frame.DataFrame'>\n",
            "RangeIndex: 134529 entries, 0 to 134528\n",
            "Columns: 112 entries, ReportAsOfEOD to ActiveLateLastPaymentCategory\n",
            "dtypes: bool(3), float64(56), int64(14), object(39)\n",
            "memory usage: 112.3+ MB\n"
          ]
        }
      ],
      "source": [
        "df.info()"
      ]
    },
    {
      "cell_type": "code",
      "execution_count": 8,
      "id": "1c131a1d",
      "metadata": {
        "id": "1c131a1d",
        "outputId": "5445136c-a348-45ea-d415-3ecc73a5189e",
        "scrolled": true
      },
      "outputs": [
        {
          "data": {
            "text/plain": [
              "ReportAsOfEOD                                  0\n",
              "LoanId                                         0\n",
              "LoanNumber                                     0\n",
              "ListedOnUTC                                    0\n",
              "BiddingStartedOn                               0\n",
              "BidsPortfolioManager                           0\n",
              "BidsApi                                        0\n",
              "BidsManual                                     0\n",
              "UserName                                       0\n",
              "NewCreditCustomer                              0\n",
              "LoanApplicationStartedDate                     0\n",
              "LoanDate                                       0\n",
              "ContractEndDate                            75546\n",
              "FirstPaymentDate                               0\n",
              "MaturityDate_Original                          0\n",
              "MaturityDate_Last                              0\n",
              "ApplicationSignedHour                          0\n",
              "ApplicationSignedWeekday                       0\n",
              "VerificationType                              45\n",
              "LanguageCode                                   0\n",
              "Age                                            0\n",
              "DateOfBirth                                    0\n",
              "Gender                                        45\n",
              "Country                                        0\n",
              "AppliedAmount                                  0\n",
              "Amount                                         0\n",
              "Interest                                       0\n",
              "LoanDuration                                   0\n",
              "MonthlyPayment                              6685\n",
              "County                                     36840\n",
              "City                                        9794\n",
              "UseOfLoan                                      0\n",
              "Education                                     45\n",
              "MaritalStatus                                 45\n",
              "NrOfDependants                             98929\n",
              "EmploymentStatus                             197\n",
              "EmploymentDurationCurrentEmployer            876\n",
              "EmploymentPosition                         98439\n",
              "WorkExperience                             98007\n",
              "OccupationArea                                86\n",
              "HomeOwnershipType                           1652\n",
              "IncomeFromPrincipalEmployer                    0\n",
              "IncomeFromPension                              0\n",
              "IncomeFromFamilyAllowance                      0\n",
              "IncomeFromSocialWelfare                        0\n",
              "IncomeFromLeavePay                             0\n",
              "IncomeFromChildSupport                         0\n",
              "IncomeOther                                    0\n",
              "IncomeTotal                                    0\n",
              "ExistingLiabilities                            0\n",
              "LiabilitiesTotal                               0\n",
              "RefinanceLiabilities                           0\n",
              "DebtToIncome                                  45\n",
              "FreeCash                                      45\n",
              "MonthlyPaymentDay                              0\n",
              "ActiveScheduleFirstPaymentReached              0\n",
              "PlannedPrincipalTillDate                   80070\n",
              "PlannedInterestTillDate                     3942\n",
              "LastPaymentOn                               9531\n",
              "CurrentDebtDaysPrimary                     86011\n",
              "DebtOccuredOn                              86011\n",
              "CurrentDebtDaysSecondary                   82279\n",
              "DebtOccuredOnForSecondary                  82279\n",
              "ExpectedLoss                                2636\n",
              "LossGivenDefault                            2636\n",
              "ExpectedReturn                              2636\n",
              "ProbabilityOfDefault                        2636\n",
              "DefaultDate                                91614\n",
              "PrincipalOverdueBySchedule                 14837\n",
              "PlannedPrincipalPostDefault                91614\n",
              "PlannedInterestPostDefault                 91614\n",
              "EAD1                                       91614\n",
              "EAD2                                       91614\n",
              "PrincipalRecovery                          91614\n",
              "InterestRecovery                           91614\n",
              "RecoveryStage                              57288\n",
              "StageActiveSince                           53575\n",
              "ModelVersion                                2636\n",
              "Rating                                      2730\n",
              "EL_V0                                     129960\n",
              "Rating_V0                                 129960\n",
              "EL_V1                                     121607\n",
              "Rating_V1                                 121607\n",
              "Rating_V2                                 109386\n",
              "Status                                         0\n",
              "Restructured                                   0\n",
              "ActiveLateCategory                         86011\n",
              "WorseLateCategory                          45456\n",
              "CreditScoreEsMicroL                        29574\n",
              "CreditScoreEsEquifaxRisk                  122310\n",
              "CreditScoreFiAsiakasTietoRiskGrade        102011\n",
              "CreditScoreEeMini                          62807\n",
              "PrincipalPaymentsMade                          0\n",
              "InterestAndPenaltyPaymentsMade                 0\n",
              "PrincipalWriteOffs                         75400\n",
              "InterestAndPenaltyWriteOffs                75400\n",
              "PrincipalBalance                               0\n",
              "InterestAndPenaltyBalance                      0\n",
              "NoOfPreviousLoansBeforeLoan                    0\n",
              "AmountOfPreviousLoansBeforeLoan                0\n",
              "PreviousRepaymentsBeforeLoan               43161\n",
              "PreviousEarlyRepaymentsBefoleLoan          76503\n",
              "PreviousEarlyRepaymentsCountBeforeLoan         0\n",
              "GracePeriodStart                          115741\n",
              "GracePeriodEnd                            115741\n",
              "NextPaymentDate                            68885\n",
              "NextPaymentNr                              36741\n",
              "NrOfScheduledPayments                      36741\n",
              "ReScheduledOn                              94207\n",
              "PrincipalDebtServicingCost                 75400\n",
              "InterestAndPenaltyDebtServicingCost        75400\n",
              "ActiveLateLastPaymentCategory              82279\n",
              "dtype: int64"
            ]
          },
          "execution_count": 8,
          "metadata": {},
          "output_type": "execute_result"
        }
      ],
      "source": [
        "# To show all the rows of pandas dataframe\n",
        "pd.set_option('display.max_rows', 500)\n",
        "df.isnull().sum()"
      ]
    },
    {
      "cell_type": "code",
      "execution_count": 9,
      "id": "a78b5585",
      "metadata": {
        "id": "a78b5585"
      },
      "outputs": [],
      "source": [
        "# removing the columns having more than 40% missing values\n",
        "def percent_null(df):\n",
        "    percent_null=df.isnull().sum()/len(df)*100\n",
        "    percent_null=percent_null[percent_null>40]\n",
        "    return percent_null"
      ]
    },
    {
      "cell_type": "code",
      "execution_count": 10,
      "id": "25cc4a26",
      "metadata": {
        "id": "25cc4a26",
        "scrolled": true
      },
      "outputs": [],
      "source": [
        "null_remove=percent_null(df)"
      ]
    },
    {
      "cell_type": "code",
      "execution_count": 11,
      "id": "c7ab517c",
      "metadata": {
        "id": "c7ab517c",
        "outputId": "416dba97-404e-4485-8042-ef1688f2f894"
      },
      "outputs": [
        {
          "data": {
            "text/plain": [
              "36"
            ]
          },
          "execution_count": 11,
          "metadata": {},
          "output_type": "execute_result"
        }
      ],
      "source": [
        "len(null_remove)"
      ]
    },
    {
      "cell_type": "code",
      "execution_count": 12,
      "id": "201a3b51",
      "metadata": {
        "id": "201a3b51",
        "outputId": "44730499-895b-4aea-a90d-99d5a2645194"
      },
      "outputs": [
        {
          "data": {
            "text/plain": [
              "Index(['ContractEndDate', 'NrOfDependants', 'EmploymentPosition',\n",
              "       'WorkExperience', 'PlannedPrincipalTillDate', 'CurrentDebtDaysPrimary',\n",
              "       'DebtOccuredOn', 'CurrentDebtDaysSecondary',\n",
              "       'DebtOccuredOnForSecondary', 'DefaultDate',\n",
              "       'PlannedPrincipalPostDefault', 'PlannedInterestPostDefault', 'EAD1',\n",
              "       'EAD2', 'PrincipalRecovery', 'InterestRecovery', 'RecoveryStage',\n",
              "       'EL_V0', 'Rating_V0', 'EL_V1', 'Rating_V1', 'Rating_V2',\n",
              "       'ActiveLateCategory', 'CreditScoreEsEquifaxRisk',\n",
              "       'CreditScoreFiAsiakasTietoRiskGrade', 'CreditScoreEeMini',\n",
              "       'PrincipalWriteOffs', 'InterestAndPenaltyWriteOffs',\n",
              "       'PreviousEarlyRepaymentsBefoleLoan', 'GracePeriodStart',\n",
              "       'GracePeriodEnd', 'NextPaymentDate', 'ReScheduledOn',\n",
              "       'PrincipalDebtServicingCost', 'InterestAndPenaltyDebtServicingCost',\n",
              "       'ActiveLateLastPaymentCategory'],\n",
              "      dtype='object')"
            ]
          },
          "execution_count": 12,
          "metadata": {},
          "output_type": "execute_result"
        }
      ],
      "source": [
        "null_remove.index"
      ]
    },
    {
      "cell_type": "code",
      "execution_count": 13,
      "id": "d6a5419c",
      "metadata": {
        "id": "d6a5419c"
      },
      "outputs": [],
      "source": [
        "# print missing values columns\n",
        "miss_cols=['ContractEndDate', 'NrOfDependants', 'EmploymentPosition',\n",
        "       'WorkExperience', 'PlannedPrincipalTillDate', 'CurrentDebtDaysPrimary',\n",
        "       'DebtOccuredOn', 'CurrentDebtDaysSecondary',\n",
        "       'DebtOccuredOnForSecondary',\n",
        "       'PlannedPrincipalPostDefault', 'PlannedInterestPostDefault', 'EAD1',\n",
        "       'EAD2', 'PrincipalRecovery', 'InterestRecovery', 'RecoveryStage',\n",
        "       'EL_V0', 'Rating_V0', 'EL_V1', 'Rating_V1', 'Rating_V2',\n",
        "       'ActiveLateCategory', 'CreditScoreEsEquifaxRisk',\n",
        "       'CreditScoreFiAsiakasTietoRiskGrade', 'CreditScoreEeMini',\n",
        "       'PrincipalWriteOffs', 'InterestAndPenaltyWriteOffs',\n",
        "       'PreviousEarlyRepaymentsBefoleLoan', 'GracePeriodStart',\n",
        "       'GracePeriodEnd', 'NextPaymentDate', 'ReScheduledOn',\n",
        "       'PrincipalDebtServicingCost', 'InterestAndPenaltyDebtServicingCost',\n",
        "       'ActiveLateLastPaymentCategory']"
      ]
    },
    {
      "cell_type": "code",
      "execution_count": 14,
      "id": "14f66582",
      "metadata": {
        "id": "14f66582",
        "outputId": "af077fe9-ac7b-4794-b107-4a0ae9cf33c8"
      },
      "outputs": [
        {
          "data": {
            "text/plain": [
              "35"
            ]
          },
          "execution_count": 14,
          "metadata": {},
          "output_type": "execute_result"
        }
      ],
      "source": [
        "len(miss_cols)"
      ]
    },
    {
      "cell_type": "code",
      "execution_count": 15,
      "id": "f45b13e3",
      "metadata": {
        "id": "f45b13e3",
        "scrolled": true
      },
      "outputs": [],
      "source": [
        "df=df.drop(miss_cols,axis=1)"
      ]
    },
    {
      "cell_type": "code",
      "execution_count": 16,
      "id": "af1a7a9d",
      "metadata": {
        "id": "af1a7a9d",
        "outputId": "6fc37b99-8868-4dbf-ee00-2ad0977db165"
      },
      "outputs": [
        {
          "data": {
            "text/plain": [
              "(134529, 77)"
            ]
          },
          "execution_count": 16,
          "metadata": {},
          "output_type": "execute_result"
        }
      ],
      "source": [
        "df.shape"
      ]
    },
    {
      "cell_type": "code",
      "execution_count": 17,
      "id": "4a198eef",
      "metadata": {
        "id": "4a198eef"
      },
      "outputs": [],
      "source": [
        "cols_del = ['ReportAsOfEOD', 'LoanId', 'LoanNumber', 'ListedOnUTC', 'DateOfBirth',\n",
        "       'BiddingStartedOn','UserName','NextPaymentNr','NrOfScheduledPayments','IncomeFromPrincipalEmployer',\n",
        "        'IncomeFromPension','IncomeFromFamilyAllowance', 'IncomeFromSocialWelfare','IncomeFromLeavePay',\n",
        "        'IncomeFromChildSupport', 'IncomeOther','LoanApplicationStartedDate','ApplicationSignedHour',\n",
        "        'ApplicationSignedWeekday','ActiveScheduleFirstPaymentReached', 'PlannedInterestTillDate','ExpectedLoss',\n",
        "        'LossGivenDefault', 'ExpectedReturn','ProbabilityOfDefault', 'PrincipalOverdueBySchedule',\n",
        "       'StageActiveSince', 'ModelVersion','WorseLateCategory']"
      ]
    },
    {
      "cell_type": "code",
      "execution_count": 18,
      "id": "c06e59ec",
      "metadata": {
        "id": "c06e59ec"
      },
      "outputs": [],
      "source": [
        "df=df.drop(cols_del,axis=1)"
      ]
    },
    {
      "cell_type": "code",
      "execution_count": 19,
      "id": "a55382c7",
      "metadata": {
        "id": "a55382c7",
        "outputId": "a36fe2f1-7daf-434e-b130-05748b80965d"
      },
      "outputs": [
        {
          "data": {
            "text/plain": [
              "(134529, 48)"
            ]
          },
          "execution_count": 19,
          "metadata": {},
          "output_type": "execute_result"
        }
      ],
      "source": [
        "df.shape"
      ]
    },
    {
      "cell_type": "markdown",
      "id": "4d3921f7",
      "metadata": {
        "id": "4d3921f7"
      },
      "source": [
        "### Creating Target Variable"
      ]
    },
    {
      "cell_type": "code",
      "execution_count": 20,
      "id": "f422a7e6",
      "metadata": {
        "id": "f422a7e6",
        "outputId": "128d6cb2-4337-44b8-a937-db6dbb34c57d"
      },
      "outputs": [
        {
          "data": {
            "text/plain": [
              "Status\n",
              "Current    57135\n",
              "Late       45772\n",
              "Repaid     31622\n",
              "Name: count, dtype: int64"
            ]
          },
          "execution_count": 20,
          "metadata": {},
          "output_type": "execute_result"
        }
      ],
      "source": [
        "#counts of each status categories\n",
        "df['Status'].value_counts()"
      ]
    },
    {
      "cell_type": "code",
      "execution_count": 21,
      "id": "6fa1db84",
      "metadata": {
        "id": "6fa1db84",
        "outputId": "0c860ac3-7f96-4008-c98f-6f145ae5f3cc"
      },
      "outputs": [
        {
          "data": {
            "text/plain": [
              "491       Current\n",
              "523       Current\n",
              "536       Current\n",
              "541       Current\n",
              "544       Current\n",
              "           ...   \n",
              "134429    Current\n",
              "134455    Current\n",
              "134483    Current\n",
              "134486    Current\n",
              "134491    Current\n",
              "Name: Status, Length: 57135, dtype: object"
            ]
          },
          "execution_count": 21,
          "metadata": {},
          "output_type": "execute_result"
        }
      ],
      "source": [
        "df['Status'][df['Status']=='Current']"
      ]
    },
    {
      "cell_type": "code",
      "execution_count": 22,
      "id": "5671f6e6",
      "metadata": {
        "id": "5671f6e6"
      },
      "outputs": [],
      "source": [
        "df['var']= df['DefaultDate'].isnull()"
      ]
    },
    {
      "cell_type": "code",
      "execution_count": 23,
      "id": "25e83aa4",
      "metadata": {
        "id": "25e83aa4"
      },
      "outputs": [],
      "source": [
        "def target(var):\n",
        "    if var==True:\n",
        "        return 0\n",
        "    else:\n",
        "        return 1"
      ]
    },
    {
      "cell_type": "code",
      "execution_count": 24,
      "id": "44f5e926",
      "metadata": {
        "id": "44f5e926"
      },
      "outputs": [],
      "source": [
        "df['target_var']=df['var'].apply(target)"
      ]
    },
    {
      "cell_type": "code",
      "execution_count": 25,
      "id": "7730551d",
      "metadata": {
        "id": "7730551d",
        "outputId": "6e07ca7a-444d-44b7-ebe7-bd650af7c021"
      },
      "outputs": [
        {
          "data": {
            "text/plain": [
              "0         0\n",
              "1         0\n",
              "2         1\n",
              "3         0\n",
              "4         1\n",
              "         ..\n",
              "134524    1\n",
              "134525    0\n",
              "134526    1\n",
              "134527    1\n",
              "134528    1\n",
              "Name: target_var, Length: 134529, dtype: int64"
            ]
          },
          "execution_count": 25,
          "metadata": {},
          "output_type": "execute_result"
        }
      ],
      "source": [
        "df['target_var']"
      ]
    },
    {
      "cell_type": "code",
      "execution_count": 26,
      "id": "5d8d1f93",
      "metadata": {
        "id": "5d8d1f93",
        "outputId": "70b7ceac-a45b-4621-e529-204b5c6f160e"
      },
      "outputs": [
        {
          "data": {
            "text/plain": [
              "target_var\n",
              "0    91614\n",
              "1    42915\n",
              "Name: count, dtype: int64"
            ]
          },
          "execution_count": 26,
          "metadata": {},
          "output_type": "execute_result"
        }
      ],
      "source": [
        "df['target_var'].value_counts()"
      ]
    },
    {
      "cell_type": "code",
      "execution_count": 27,
      "id": "cb35694d",
      "metadata": {
        "id": "cb35694d"
      },
      "outputs": [],
      "source": [
        "drop_cols=['Status','DefaultDate','var']"
      ]
    },
    {
      "cell_type": "code",
      "execution_count": 28,
      "id": "f816f8ee",
      "metadata": {
        "id": "f816f8ee"
      },
      "outputs": [],
      "source": [
        "df=df.drop(drop_cols,axis=1)"
      ]
    },
    {
      "cell_type": "code",
      "execution_count": 29,
      "id": "c9f15805",
      "metadata": {
        "id": "c9f15805",
        "outputId": "3393c90c-0da4-4d53-ab1c-5543ddc12729"
      },
      "outputs": [
        {
          "data": {
            "text/plain": [
              "(134529, 47)"
            ]
          },
          "execution_count": 29,
          "metadata": {},
          "output_type": "execute_result"
        }
      ],
      "source": [
        "df.shape"
      ]
    },
    {
      "cell_type": "markdown",
      "id": "8a25cad3",
      "metadata": {
        "id": "8a25cad3"
      },
      "source": [
        "## CHECKING FOR DATA TYPES"
      ]
    },
    {
      "cell_type": "code",
      "execution_count": 30,
      "id": "1705e1b8",
      "metadata": {
        "id": "1705e1b8",
        "outputId": "a051b668-543c-48bb-e5f5-6dff3f959e1e",
        "scrolled": true
      },
      "outputs": [
        {
          "name": "stdout",
          "output_type": "stream",
          "text": [
            "<class 'pandas.core.frame.DataFrame'>\n",
            "RangeIndex: 134529 entries, 0 to 134528\n",
            "Data columns (total 47 columns):\n",
            " #   Column                                  Non-Null Count   Dtype  \n",
            "---  ------                                  --------------   -----  \n",
            " 0   BidsPortfolioManager                    134529 non-null  int64  \n",
            " 1   BidsApi                                 134529 non-null  int64  \n",
            " 2   BidsManual                              134529 non-null  float64\n",
            " 3   NewCreditCustomer                       134529 non-null  bool   \n",
            " 4   LoanDate                                134529 non-null  object \n",
            " 5   FirstPaymentDate                        134529 non-null  object \n",
            " 6   MaturityDate_Original                   134529 non-null  object \n",
            " 7   MaturityDate_Last                       134529 non-null  object \n",
            " 8   VerificationType                        134484 non-null  float64\n",
            " 9   LanguageCode                            134529 non-null  int64  \n",
            " 10  Age                                     134529 non-null  int64  \n",
            " 11  Gender                                  134484 non-null  float64\n",
            " 12  Country                                 134529 non-null  object \n",
            " 13  AppliedAmount                           134529 non-null  float64\n",
            " 14  Amount                                  134529 non-null  float64\n",
            " 15  Interest                                134529 non-null  float64\n",
            " 16  LoanDuration                            134529 non-null  int64  \n",
            " 17  MonthlyPayment                          127844 non-null  float64\n",
            " 18  County                                  97689 non-null   object \n",
            " 19  City                                    124735 non-null  object \n",
            " 20  UseOfLoan                               134529 non-null  int64  \n",
            " 21  Education                               134484 non-null  float64\n",
            " 22  MaritalStatus                           134484 non-null  float64\n",
            " 23  EmploymentStatus                        134332 non-null  float64\n",
            " 24  EmploymentDurationCurrentEmployer       133653 non-null  object \n",
            " 25  OccupationArea                          134443 non-null  float64\n",
            " 26  HomeOwnershipType                       132877 non-null  float64\n",
            " 27  IncomeTotal                             134529 non-null  float64\n",
            " 28  ExistingLiabilities                     134529 non-null  int64  \n",
            " 29  LiabilitiesTotal                        134529 non-null  float64\n",
            " 30  RefinanceLiabilities                    134529 non-null  int64  \n",
            " 31  DebtToIncome                            134484 non-null  float64\n",
            " 32  FreeCash                                134484 non-null  float64\n",
            " 33  MonthlyPaymentDay                       134529 non-null  int64  \n",
            " 34  LastPaymentOn                           124998 non-null  object \n",
            " 35  Rating                                  131799 non-null  object \n",
            " 36  Restructured                            134529 non-null  bool   \n",
            " 37  CreditScoreEsMicroL                     104955 non-null  object \n",
            " 38  PrincipalPaymentsMade                   134529 non-null  float64\n",
            " 39  InterestAndPenaltyPaymentsMade          134529 non-null  float64\n",
            " 40  PrincipalBalance                        134529 non-null  float64\n",
            " 41  InterestAndPenaltyBalance               134529 non-null  float64\n",
            " 42  NoOfPreviousLoansBeforeLoan             134529 non-null  int64  \n",
            " 43  AmountOfPreviousLoansBeforeLoan         134529 non-null  float64\n",
            " 44  PreviousRepaymentsBeforeLoan            91368 non-null   float64\n",
            " 45  PreviousEarlyRepaymentsCountBeforeLoan  134529 non-null  int64  \n",
            " 46  target_var                              134529 non-null  int64  \n",
            "dtypes: bool(2), float64(22), int64(12), object(11)\n",
            "memory usage: 46.4+ MB\n"
          ]
        }
      ],
      "source": [
        "df.info()"
      ]
    },
    {
      "cell_type": "markdown",
      "id": "8a15729f",
      "metadata": {
        "id": "8a15729f"
      },
      "source": [
        "First we will delete all the features related to date as it is not a time series analysis so these features will not help in predicting target variable.\n",
        "\n",
        "As we can see in numeric column distribution there are many columns which are present as numeric but they are actually categorical as per data description such as Verification Type, Language Code, Gender, Use of Loan, Education, Marital\n",
        "\n",
        "Status,EmployementStatus, OccupationArea etc.\n",
        "So we will convert these features to categorical features"
      ]
    },
    {
      "cell_type": "code",
      "execution_count": 31,
      "id": "025081f3",
      "metadata": {
        "id": "025081f3"
      },
      "outputs": [],
      "source": [
        "#for date time data types\n",
        "date_time = ['LoanDate', 'FirstPaymentDate', 'MaturityDate_Original',\n",
        "       'MaturityDate_Last', 'LastPaymentOn']\n"
      ]
    },
    {
      "cell_type": "code",
      "execution_count": 32,
      "id": "ff3fc32f",
      "metadata": {
        "id": "ff3fc32f"
      },
      "outputs": [],
      "source": [
        "df=df.drop(date_time,axis=1)"
      ]
    },
    {
      "cell_type": "code",
      "execution_count": 33,
      "id": "40799867",
      "metadata": {
        "id": "40799867",
        "outputId": "b10d279f-8995-42e6-d064-9d8b945d75fb"
      },
      "outputs": [
        {
          "data": {
            "text/plain": [
              "Index(['Country', 'County', 'City', 'EmploymentDurationCurrentEmployer',\n",
              "       'Rating', 'CreditScoreEsMicroL'],\n",
              "      dtype='object')"
            ]
          },
          "execution_count": 33,
          "metadata": {},
          "output_type": "execute_result"
        }
      ],
      "source": [
        "df_objs = df.select_dtypes(include='object')\n",
        "df_objs.columns"
      ]
    },
    {
      "cell_type": "code",
      "execution_count": 34,
      "id": "f0ffcdc9",
      "metadata": {
        "id": "f0ffcdc9",
        "outputId": "84fefada-086c-4886-e712-292c3424acd5"
      },
      "outputs": [
        {
          "data": {
            "text/plain": [
              "Index(['BidsPortfolioManager', 'BidsApi', 'BidsManual', 'NewCreditCustomer',\n",
              "       'VerificationType', 'LanguageCode', 'Age', 'Gender', 'AppliedAmount',\n",
              "       'Amount', 'Interest', 'LoanDuration', 'MonthlyPayment', 'UseOfLoan',\n",
              "       'Education', 'MaritalStatus', 'EmploymentStatus', 'OccupationArea',\n",
              "       'HomeOwnershipType', 'IncomeTotal', 'ExistingLiabilities',\n",
              "       'LiabilitiesTotal', 'RefinanceLiabilities', 'DebtToIncome', 'FreeCash',\n",
              "       'MonthlyPaymentDay', 'Restructured', 'PrincipalPaymentsMade',\n",
              "       'InterestAndPenaltyPaymentsMade', 'PrincipalBalance',\n",
              "       'InterestAndPenaltyBalance', 'NoOfPreviousLoansBeforeLoan',\n",
              "       'AmountOfPreviousLoansBeforeLoan', 'PreviousRepaymentsBeforeLoan',\n",
              "       'PreviousEarlyRepaymentsCountBeforeLoan', 'target_var'],\n",
              "      dtype='object')"
            ]
          },
          "execution_count": 34,
          "metadata": {},
          "output_type": "execute_result"
        }
      ],
      "source": [
        "df_nums = df.select_dtypes(exclude='object')\n",
        "df_nums.columns"
      ]
    },
    {
      "cell_type": "markdown",
      "id": "0c97be4f",
      "metadata": {
        "id": "0c97be4f"
      },
      "source": [
        "### checking for categorical values"
      ]
    },
    {
      "cell_type": "code",
      "execution_count": 35,
      "id": "c068e6b0",
      "metadata": {
        "id": "c068e6b0",
        "outputId": "82c6d303-7b50-428b-aa6d-a913fb02ad7b"
      },
      "outputs": [
        {
          "data": {
            "text/plain": [
              "VerificationType\n",
              "4.0    74572\n",
              "1.0    48648\n",
              "3.0     9428\n",
              "2.0     1828\n",
              "0.0        8\n",
              "Name: count, dtype: int64"
            ]
          },
          "execution_count": 35,
          "metadata": {},
          "output_type": "execute_result"
        }
      ],
      "source": [
        "# write your code here for VerificationType\n",
        "df[\"VerificationType\"].value_counts()"
      ]
    },
    {
      "cell_type": "code",
      "execution_count": 36,
      "id": "1a11c29d",
      "metadata": {
        "id": "1a11c29d"
      },
      "outputs": [],
      "source": [
        "replace_VerificationType = {0:'Not Set',1:'Income unverified',2:'Income unverified, cross-referenced by phone',\n",
        "                            3:'Income verified',4:'Income and expenses verified'}"
      ]
    },
    {
      "cell_type": "code",
      "execution_count": 37,
      "id": "286928bd",
      "metadata": {
        "id": "286928bd"
      },
      "outputs": [],
      "source": [
        "df['VerificationType'] = df['VerificationType'].map(replace_VerificationType)"
      ]
    },
    {
      "cell_type": "code",
      "execution_count": 38,
      "id": "333de9ef",
      "metadata": {
        "id": "333de9ef",
        "outputId": "119eef84-3da6-4e9a-945b-f62291ea357b"
      },
      "outputs": [
        {
          "data": {
            "text/plain": [
              "VerificationType\n",
              "Income and expenses verified                    74572\n",
              "Income unverified                               48648\n",
              "Income verified                                  9428\n",
              "Income unverified, cross-referenced by phone     1828\n",
              "Not Set                                             8\n",
              "Name: count, dtype: int64"
            ]
          },
          "execution_count": 38,
          "metadata": {},
          "output_type": "execute_result"
        }
      ],
      "source": [
        "df[\"VerificationType\"].value_counts()"
      ]
    },
    {
      "cell_type": "code",
      "execution_count": 39,
      "id": "e4dbcfc1",
      "metadata": {
        "id": "e4dbcfc1",
        "outputId": "494bb904-15ba-49d3-c536-06615529c302"
      },
      "outputs": [
        {
          "data": {
            "text/plain": [
              "Gender\n",
              "0.0    85650\n",
              "1.0    38213\n",
              "2.0    10621\n",
              "Name: count, dtype: int64"
            ]
          },
          "execution_count": 39,
          "metadata": {},
          "output_type": "execute_result"
        }
      ],
      "source": [
        "# write your code here Gender\n",
        "df[\"Gender\"].value_counts()"
      ]
    },
    {
      "cell_type": "code",
      "execution_count": 40,
      "id": "b32245b9",
      "metadata": {
        "id": "b32245b9"
      },
      "outputs": [],
      "source": [
        "replace_gender={0:'Male',1:'Women',2:'Undefined'  }"
      ]
    },
    {
      "cell_type": "code",
      "execution_count": 41,
      "id": "75966c68",
      "metadata": {
        "id": "75966c68"
      },
      "outputs": [],
      "source": [
        "df['Gender'] = df['Gender'].map(replace_gender)"
      ]
    },
    {
      "cell_type": "code",
      "execution_count": 42,
      "id": "7aad315d",
      "metadata": {
        "id": "7aad315d",
        "outputId": "2cb0354c-9bba-4b55-8e21-0693a2f7f3df"
      },
      "outputs": [
        {
          "data": {
            "text/plain": [
              "Gender\n",
              "Male         85650\n",
              "Women        38213\n",
              "Undefined    10621\n",
              "Name: count, dtype: int64"
            ]
          },
          "execution_count": 42,
          "metadata": {},
          "output_type": "execute_result"
        }
      ],
      "source": [
        "df[\"Gender\"].value_counts()"
      ]
    },
    {
      "cell_type": "code",
      "execution_count": 43,
      "id": "14285354",
      "metadata": {
        "id": "14285354",
        "outputId": "3ab7aef3-713b-4aaa-fdf4-d54272334f31",
        "scrolled": true
      },
      "outputs": [
        {
          "data": {
            "text/plain": [
              "LanguageCode\n",
              "1     64299\n",
              "4     32155\n",
              "6     24103\n",
              "3     12694\n",
              "2       967\n",
              "9       295\n",
              "22        6\n",
              "5         5\n",
              "15        1\n",
              "10        1\n",
              "13        1\n",
              "7         1\n",
              "21        1\n",
              "Name: count, dtype: int64"
            ]
          },
          "execution_count": 43,
          "metadata": {},
          "output_type": "execute_result"
        }
      ],
      "source": [
        "df[\"LanguageCode\"].value_counts()"
      ]
    },
    {
      "cell_type": "code",
      "execution_count": 44,
      "id": "7776b987",
      "metadata": {
        "id": "7776b987",
        "outputId": "dc12634f-d0e6-4b2b-9b4d-dcf34470a4d8"
      },
      "outputs": [
        {
          "data": {
            "text/plain": [
              "LanguageCode\n",
              "Estonian     64299\n",
              "Finnish      32155\n",
              "Spanish      24103\n",
              "Russian      12694\n",
              "English        967\n",
              "Slovakian      295\n",
              "Other           11\n",
              "German           5\n",
              "Name: count, dtype: int64"
            ]
          },
          "execution_count": 44,
          "metadata": {},
          "output_type": "execute_result"
        }
      ],
      "source": [
        "# write your code here\n",
        "replace_languagecode = [None, 'Estonian', 'English', 'Russian', 'Finnish', 'German', 'Spanish', 7, 8, 'Slovakian']\n",
        "for n, i in enumerate(replace_languagecode):\n",
        "    df[\"LanguageCode\"][df[\"LanguageCode\"]==n] = i\n",
        "df[\"LanguageCode\"][~(df[\"LanguageCode\"].str.isnumeric()==False)] = 'Other'\n",
        "df[\"LanguageCode\"].value_counts()"
      ]
    },
    {
      "cell_type": "code",
      "execution_count": 45,
      "id": "468c8b43",
      "metadata": {
        "id": "468c8b43",
        "outputId": "513e9873-32ff-4ad9-c12d-40d7ae1bb541"
      },
      "outputs": [
        {
          "data": {
            "text/plain": [
              "UseOfLoan\n",
              "-1      97946\n",
              " 7       9698\n",
              " 2       9191\n",
              " 0       6914\n",
              " 6       3150\n",
              " 3       1950\n",
              " 5       1787\n",
              " 8       1519\n",
              " 4       1366\n",
              " 1        955\n",
              " 102       21\n",
              " 110       17\n",
              " 104        6\n",
              " 101        5\n",
              " 107        2\n",
              " 108        1\n",
              " 106        1\n",
              "Name: count, dtype: int64"
            ]
          },
          "execution_count": 45,
          "metadata": {},
          "output_type": "execute_result"
        }
      ],
      "source": [
        "df[\"UseOfLoan\"].value_counts()"
      ]
    },
    {
      "cell_type": "code",
      "execution_count": 46,
      "id": "5fae61ed",
      "metadata": {
        "id": "5fae61ed"
      },
      "outputs": [],
      "source": [
        "replace_UseOfLoan={-1:'Not set',0:'Loan consolidation',1:'Real estate',2:'Home improvement',3:'Business',4:'Education',\n",
        "                   5:'Travel',6:'Vehicle',7:'Other',8:'Health',}"
      ]
    },
    {
      "cell_type": "code",
      "execution_count": 47,
      "id": "a7b30cfb",
      "metadata": {
        "id": "a7b30cfb"
      },
      "outputs": [],
      "source": [
        "df['UseOfLoan'] = df['UseOfLoan'].map(replace_UseOfLoan)"
      ]
    },
    {
      "cell_type": "code",
      "execution_count": 48,
      "id": "c619fc7e",
      "metadata": {
        "id": "c619fc7e",
        "outputId": "244dd7e0-880a-470c-ea12-3f4ba6cc1cd3"
      },
      "outputs": [
        {
          "data": {
            "text/plain": [
              "UseOfLoan\n",
              "Not set               97946\n",
              "Other                  9698\n",
              "Home improvement       9191\n",
              "Loan consolidation     6914\n",
              "Vehicle                3150\n",
              "Business               1950\n",
              "Travel                 1787\n",
              "Health                 1519\n",
              "Education              1366\n",
              "Real estate             955\n",
              "Name: count, dtype: int64"
            ]
          },
          "execution_count": 48,
          "metadata": {},
          "output_type": "execute_result"
        }
      ],
      "source": [
        "df[\"UseOfLoan\"].value_counts()"
      ]
    },
    {
      "cell_type": "code",
      "execution_count": 49,
      "id": "653d05f1",
      "metadata": {
        "id": "653d05f1",
        "outputId": "c11b2d81-b4ed-4645-d327-027fb4a2d5ab"
      },
      "outputs": [
        {
          "data": {
            "text/plain": [
              "Education\n",
              " 4.0    51330\n",
              " 5.0    35398\n",
              " 3.0    29260\n",
              " 1.0    12057\n",
              " 2.0     6427\n",
              " 0.0        8\n",
              "-1.0        4\n",
              "Name: count, dtype: int64"
            ]
          },
          "execution_count": 49,
          "metadata": {},
          "output_type": "execute_result"
        }
      ],
      "source": [
        "df[\"Education\"].value_counts()"
      ]
    },
    {
      "cell_type": "code",
      "execution_count": 50,
      "id": "61628560",
      "metadata": {
        "id": "61628560"
      },
      "outputs": [],
      "source": [
        "replace_Education={-1:'Not_present',1:'Primary education',2:'Basic education',3:'Vocational education',\n",
        "                   4:'Secondary education',5:'Higher education',}"
      ]
    },
    {
      "cell_type": "code",
      "execution_count": 51,
      "id": "df626d83",
      "metadata": {
        "id": "df626d83"
      },
      "outputs": [],
      "source": [
        "df['Education'] = df['Education'].map(replace_Education)"
      ]
    },
    {
      "cell_type": "code",
      "execution_count": 52,
      "id": "cbe93029",
      "metadata": {
        "id": "cbe93029",
        "outputId": "a010f036-6805-4e9b-84bb-befbd85ca3f3"
      },
      "outputs": [
        {
          "data": {
            "text/plain": [
              "Education\n",
              "Secondary education     51330\n",
              "Higher education        35398\n",
              "Vocational education    29260\n",
              "Primary education       12057\n",
              "Basic education          6427\n",
              "Not_present                 4\n",
              "Name: count, dtype: int64"
            ]
          },
          "execution_count": 52,
          "metadata": {},
          "output_type": "execute_result"
        }
      ],
      "source": [
        "df[\"Education\"].value_counts()"
      ]
    },
    {
      "cell_type": "code",
      "execution_count": 53,
      "id": "8206612c",
      "metadata": {
        "id": "8206612c",
        "outputId": "aa06a548-7b09-4bcf-862b-06b27e29cc5d"
      },
      "outputs": [
        {
          "data": {
            "text/plain": [
              "MaritalStatus\n",
              "-1.0    97946\n",
              " 3.0    12400\n",
              " 1.0    10752\n",
              " 2.0     9400\n",
              " 4.0     3377\n",
              " 5.0      601\n",
              " 0.0        8\n",
              "Name: count, dtype: int64"
            ]
          },
          "execution_count": 53,
          "metadata": {},
          "output_type": "execute_result"
        }
      ],
      "source": [
        "# write your code here for MaritalStatus\n",
        "df[\"MaritalStatus\"].value_counts()"
      ]
    },
    {
      "cell_type": "code",
      "execution_count": 54,
      "id": "f47d94eb",
      "metadata": {
        "id": "f47d94eb"
      },
      "outputs": [],
      "source": [
        "replace_MaritialStatus={-1:'Not_specified',1:'Married',2:'Cohabitant',3:'Single',4:'Divorced',5:'Widow'}"
      ]
    },
    {
      "cell_type": "code",
      "execution_count": 55,
      "id": "5b59d891",
      "metadata": {
        "id": "5b59d891"
      },
      "outputs": [],
      "source": [
        "df['MaritalStatus'] = df['MaritalStatus'].map(replace_MaritialStatus)"
      ]
    },
    {
      "cell_type": "code",
      "execution_count": 56,
      "id": "a1e9d4d4",
      "metadata": {
        "id": "a1e9d4d4",
        "outputId": "6c395d0d-c86e-4837-dffb-a7ff650930cb"
      },
      "outputs": [
        {
          "data": {
            "text/plain": [
              "MaritalStatus\n",
              "Not_specified    97946\n",
              "Single           12400\n",
              "Married          10752\n",
              "Cohabitant        9400\n",
              "Divorced          3377\n",
              "Widow              601\n",
              "Name: count, dtype: int64"
            ]
          },
          "execution_count": 56,
          "metadata": {},
          "output_type": "execute_result"
        }
      ],
      "source": [
        "df[\"MaritalStatus\"].value_counts()"
      ]
    },
    {
      "cell_type": "code",
      "execution_count": 57,
      "id": "77c3bcc9",
      "metadata": {
        "id": "77c3bcc9",
        "outputId": "8db5fb27-6fc0-4cc9-c14c-476b3dad5a1c"
      },
      "outputs": [
        {
          "data": {
            "text/plain": [
              "EmploymentStatus\n",
              "-1.0    97946\n",
              " 3.0    30060\n",
              " 5.0     2007\n",
              " 6.0     1800\n",
              " 4.0     1303\n",
              " 2.0     1184\n",
              " 0.0       32\n",
              "Name: count, dtype: int64"
            ]
          },
          "execution_count": 57,
          "metadata": {},
          "output_type": "execute_result"
        }
      ],
      "source": [
        "# write your code here for EmploymentStatus\n",
        "df[\"EmploymentStatus\"].value_counts()"
      ]
    },
    {
      "cell_type": "code",
      "execution_count": 58,
      "id": "b61f088e",
      "metadata": {
        "id": "b61f088e"
      },
      "outputs": [],
      "source": [
        "replace_EmploymentStatus={-1:'Not_specified',1:'Unemployed',2:'Partially employed',3:'Fully employed',4:'Self-employed',\n",
        "                          5:'Entrepreneur',   5:'Retiree'}"
      ]
    },
    {
      "cell_type": "code",
      "execution_count": 59,
      "id": "e82efa8e",
      "metadata": {
        "id": "e82efa8e"
      },
      "outputs": [],
      "source": [
        "df['EmploymentStatus'] = df['EmploymentStatus'].map(replace_EmploymentStatus)"
      ]
    },
    {
      "cell_type": "code",
      "execution_count": 60,
      "id": "90683d1b",
      "metadata": {
        "id": "90683d1b",
        "outputId": "361ae229-a7dd-4732-9181-29867e40d428"
      },
      "outputs": [
        {
          "data": {
            "text/plain": [
              "EmploymentStatus\n",
              "Not_specified         97946\n",
              "Fully employed        30060\n",
              "Retiree                2007\n",
              "Self-employed          1303\n",
              "Partially employed     1184\n",
              "Name: count, dtype: int64"
            ]
          },
          "execution_count": 60,
          "metadata": {},
          "output_type": "execute_result"
        }
      ],
      "source": [
        "df[\"EmploymentStatus\"].value_counts()"
      ]
    },
    {
      "cell_type": "code",
      "execution_count": 61,
      "id": "0964ea02",
      "metadata": {
        "id": "0964ea02",
        "outputId": "b5a42dd9-930d-4973-ce5e-2dc84bd613a1"
      },
      "outputs": [
        {
          "data": {
            "text/plain": [
              "OccupationArea\n",
              "-1.0     97997\n",
              " 1.0      8421\n",
              " 7.0      3587\n",
              " 6.0      3312\n",
              " 3.0      3198\n",
              " 8.0      2462\n",
              " 17.0     2424\n",
              " 9.0      2262\n",
              " 10.0     1933\n",
              " 15.0     1684\n",
              " 16.0     1430\n",
              " 11.0     1148\n",
              " 19.0     1000\n",
              " 14.0      843\n",
              " 18.0      619\n",
              " 4.0       587\n",
              " 13.0      564\n",
              " 12.0      477\n",
              " 5.0       362\n",
              " 2.0       122\n",
              " 0.0        11\n",
              "Name: count, dtype: int64"
            ]
          },
          "execution_count": 61,
          "metadata": {},
          "output_type": "execute_result"
        }
      ],
      "source": [
        "# write your code here for OccupationArea\n",
        "df[\"OccupationArea\"].value_counts()"
      ]
    },
    {
      "cell_type": "code",
      "execution_count": 62,
      "id": "0ea64770",
      "metadata": {
        "id": "0ea64770"
      },
      "outputs": [],
      "source": [
        "replace_OccupationArea={-1:'Not_specified',1:'Other',2:'Mining',3:'Processing',4:'Energy',5:'Utilities',6:'Construction',\n",
        "                        7:'Retail and wholesale',8:'Transport and warehousing',9:'Hospitality and catering',\n",
        "                        10:'Info and telecom', 11:'Finance and insurance',12:'Real-estate',13:'Research',14:'Administrative',\n",
        "                        15:'Civil service & military',16:'Education',17:'Healthcare and social help',18:'Art and entertainment'\n",
        "                        ,19:'Agriculture, forestry and fishing'  }"
      ]
    },
    {
      "cell_type": "code",
      "execution_count": 63,
      "id": "f60000ed",
      "metadata": {
        "id": "f60000ed"
      },
      "outputs": [],
      "source": [
        "df['OccupationArea'] = df['OccupationArea'].map(replace_OccupationArea)"
      ]
    },
    {
      "cell_type": "code",
      "execution_count": 64,
      "id": "98df2101",
      "metadata": {
        "id": "98df2101",
        "outputId": "5f8e3d05-9f65-4449-d267-b65bebd546ab"
      },
      "outputs": [
        {
          "data": {
            "text/plain": [
              "OccupationArea\n",
              "Not_specified                        97997\n",
              "Other                                 8421\n",
              "Retail and wholesale                  3587\n",
              "Construction                          3312\n",
              "Processing                            3198\n",
              "Transport and warehousing             2462\n",
              "Healthcare and social help            2424\n",
              "Hospitality and catering              2262\n",
              "Info and telecom                      1933\n",
              "Civil service & military              1684\n",
              "Education                             1430\n",
              "Finance and insurance                 1148\n",
              "Agriculture, forestry and fishing     1000\n",
              "Administrative                         843\n",
              "Art and entertainment                  619\n",
              "Energy                                 587\n",
              "Research                               564\n",
              "Real-estate                            477\n",
              "Utilities                              362\n",
              "Mining                                 122\n",
              "Name: count, dtype: int64"
            ]
          },
          "execution_count": 64,
          "metadata": {},
          "output_type": "execute_result"
        }
      ],
      "source": [
        "df[\"OccupationArea\"].value_counts()"
      ]
    },
    {
      "cell_type": "code",
      "execution_count": 65,
      "id": "b0cd30b2",
      "metadata": {
        "id": "b0cd30b2",
        "outputId": "4df1d8d1-824f-48b9-b86e-d685fb70b2d3"
      },
      "outputs": [
        {
          "data": {
            "text/plain": [
              "HomeOwnershipType\n",
              " 1.0     47334\n",
              " 3.0     29579\n",
              " 2.0     20780\n",
              " 8.0     15457\n",
              " 10.0     7956\n",
              " 4.0      4582\n",
              " 7.0      3337\n",
              " 6.0      1618\n",
              " 5.0      1442\n",
              " 9.0       743\n",
              " 0.0        46\n",
              "-1.0         3\n",
              "Name: count, dtype: int64"
            ]
          },
          "execution_count": 65,
          "metadata": {},
          "output_type": "execute_result"
        }
      ],
      "source": [
        "# write your code here for counts of HomeOwnershipType\n",
        "df[\"HomeOwnershipType\"].value_counts()"
      ]
    },
    {
      "cell_type": "code",
      "execution_count": 66,
      "id": "744883ef",
      "metadata": {
        "id": "744883ef"
      },
      "outputs": [],
      "source": [
        "replace_HomeOwnershipType={-1:'Not_specified',0:'Homeless',1:'Owner',2:'Living with parents',3:'Tenant, pre-furnished property',\n",
        "                           4:'Tenant, unfurnished property',5:'Council house',6:'Joint tenant',7:'Joint ownership',8:'Mortgage',\n",
        "                           9:'Owner with encumbrance',10:'Other',}6"
      ]
    },
    {
      "cell_type": "code",
      "execution_count": 67,
      "id": "18ecb169",
      "metadata": {
        "id": "18ecb169"
      },
      "outputs": [],
      "source": [
        "df['HomeOwnershipType'] = df['HomeOwnershipType'].map(replace_HomeOwnershipType)"
      ]
    },
    {
      "cell_type": "code",
      "execution_count": 68,
      "id": "98aa08a4",
      "metadata": {
        "id": "98aa08a4",
        "outputId": "5325b574-a681-4c4b-b3ae-92db10d57c91"
      },
      "outputs": [
        {
          "data": {
            "text/plain": [
              "HomeOwnershipType\n",
              "Owner                             47334\n",
              "Tenant, pre-furnished property    29579\n",
              "Living with parents               20780\n",
              "Mortgage                          15457\n",
              "Other                              7956\n",
              "Tenant, unfurnished property       4582\n",
              "Joint ownership                    3337\n",
              "Joint tenant                       1618\n",
              "Council house                      1442\n",
              "Owner with encumbrance              743\n",
              "Homeless                             46\n",
              "Not_specified                         3\n",
              "Name: count, dtype: int64"
            ]
          },
          "execution_count": 68,
          "metadata": {},
          "output_type": "execute_result"
        }
      ],
      "source": [
        "df[\"HomeOwnershipType\"].value_counts()"
      ]
    },
    {
      "cell_type": "code",
      "execution_count": 69,
      "id": "7977773b",
      "metadata": {
        "id": "7977773b"
      },
      "outputs": [],
      "source": [
        "# save the final data\n",
        "df.to_csv('Bondora_preprocessed.csv',index=False)"
      ]
    },
    {
      "cell_type": "code",
      "execution_count": 70,
      "id": "c8c1af5f",
      "metadata": {},
      "outputs": [
        {
          "name": "stdout",
          "output_type": "stream",
          "text": [
            "  ReportAsOfEOD                                LoanId  LoanNumber  \\\n",
            "0    2020-01-27  F0660C80-83F3-4A97-8DA0-9C250112D6EC         659   \n",
            "1    2020-01-27  978BB85B-1C69-4D51-8447-9C240104A3A2         654   \n",
            "2    2020-01-27  EA44027E-7FA7-4BB2-846D-9C1F013C8A22         641   \n",
            "3    2020-01-27  CE67AD25-2951-4BEE-96BD-9C2700C61EF4         668   \n",
            "4    2020-01-27  9408BF8C-B159-4D6A-9D61-9C2400A986E3         652   \n",
            "\n",
            "           ListedOnUTC     BiddingStartedOn  BidsPortfolioManager  BidsApi  \\\n",
            "0  2009-06-11 16:40:39  2009-06-11 16:40:39                     0        0   \n",
            "1  2009-06-10 15:48:57  2009-06-10 15:48:57                     0        0   \n",
            "2  2009-06-05 19:12:29  2009-06-05 19:12:29                     0        0   \n",
            "3  2009-06-13 12:01:20  2009-06-13 12:01:20                     0        0   \n",
            "4  2009-06-10 10:17:13  2009-06-10 10:17:13                     0        0   \n",
            "\n",
            "   BidsManual  UserName  NewCreditCustomer  ...  \\\n",
            "0    115.0410      KARU               True  ...   \n",
            "1    140.6057  koort681              False  ...   \n",
            "2    319.5580       0ie               True  ...   \n",
            "3     57.5205    Alyona               True  ...   \n",
            "4    319.5582       Kai               True  ...   \n",
            "\n",
            "  PreviousEarlyRepaymentsCountBeforeLoan GracePeriodStart GracePeriodEnd  \\\n",
            "0                                      0              NaN            NaN   \n",
            "1                                      0              NaN            NaN   \n",
            "2                                      0              NaN            NaN   \n",
            "3                                      0              NaN            NaN   \n",
            "4                                      0              NaN            NaN   \n",
            "\n",
            "  NextPaymentDate NextPaymentNr NrOfScheduledPayments  ReScheduledOn  \\\n",
            "0             NaN           NaN                   NaN            NaN   \n",
            "1             NaN           NaN                   NaN            NaN   \n",
            "2             NaN           NaN                   NaN            NaN   \n",
            "3             NaN           NaN                   NaN            NaN   \n",
            "4             NaN           NaN                   NaN            NaN   \n",
            "\n",
            "   PrincipalDebtServicingCost  InterestAndPenaltyDebtServicingCost  \\\n",
            "0                         0.0                                  0.0   \n",
            "1                         0.0                                  0.0   \n",
            "2                         0.0                                  0.0   \n",
            "3                         0.0                                  0.0   \n",
            "4                         0.0                                  0.0   \n",
            "\n",
            "   ActiveLateLastPaymentCategory  \n",
            "0                            NaN  \n",
            "1                            NaN  \n",
            "2                           180+  \n",
            "3                            NaN  \n",
            "4                           180+  \n",
            "\n",
            "[5 rows x 112 columns]\n",
            "<class 'pandas.core.frame.DataFrame'>\n",
            "RangeIndex: 134529 entries, 0 to 134528\n",
            "Columns: 112 entries, ReportAsOfEOD to ActiveLateLastPaymentCategory\n",
            "dtypes: bool(3), float64(56), int64(14), object(39)\n",
            "memory usage: 112.3+ MB\n",
            "None\n",
            "         LoanNumber  BidsPortfolioManager        BidsApi     BidsManual  \\\n",
            "count  1.345290e+05         134529.000000  134529.000000  134529.000000   \n",
            "mean   9.449392e+05            966.452876      29.111664     559.332590   \n",
            "std    4.786738e+05           1355.686016     150.159148     750.360512   \n",
            "min    3.700000e+01              0.000000       0.000000       0.000000   \n",
            "25%    6.206790e+05            155.000000       0.000000      96.000000   \n",
            "50%    9.235970e+05            465.000000       0.000000     317.000000   \n",
            "75%    1.311025e+06           1218.000000       5.000000     729.000000   \n",
            "max    1.855339e+06          10625.000000    7570.000000   10630.000000   \n",
            "\n",
            "       ApplicationSignedHour  ApplicationSignedWeekday  VerificationType  \\\n",
            "count          134529.000000             134529.000000     134484.000000   \n",
            "mean               13.374640                  3.907908          2.817257   \n",
            "std                 4.992375                  1.726192          1.407908   \n",
            "min                 0.000000                  1.000000          0.000000   \n",
            "25%                10.000000                  2.000000          1.000000   \n",
            "50%                13.000000                  4.000000          4.000000   \n",
            "75%                17.000000                  5.000000          4.000000   \n",
            "max                23.000000                  7.000000          4.000000   \n",
            "\n",
            "        LanguageCode            Age         Gender  ...  \\\n",
            "count  134529.000000  134529.000000  134484.000000  ...   \n",
            "mean        2.827874      40.819295       0.442097  ...   \n",
            "std         1.959802      12.348693       0.636083  ...   \n",
            "min         1.000000       0.000000       0.000000  ...   \n",
            "25%         1.000000      31.000000       0.000000  ...   \n",
            "50%         3.000000      40.000000       0.000000  ...   \n",
            "75%         4.000000      50.000000       1.000000  ...   \n",
            "max        22.000000      77.000000       2.000000  ...   \n",
            "\n",
            "       InterestAndPenaltyBalance  NoOfPreviousLoansBeforeLoan  \\\n",
            "count              134529.000000                134529.000000   \n",
            "mean                  701.567107                     1.487620   \n",
            "std                  2514.595572                     2.396148   \n",
            "min                    -2.660000                     0.000000   \n",
            "25%                     0.000000                     0.000000   \n",
            "50%                     0.000000                     1.000000   \n",
            "75%                   202.900000                     2.000000   \n",
            "max                 64494.770000                    25.000000   \n",
            "\n",
            "       AmountOfPreviousLoansBeforeLoan  PreviousRepaymentsBeforeLoan  \\\n",
            "count                    134529.000000                  91368.000000   \n",
            "mean                       2868.652401                    928.395548   \n",
            "std                        4507.046575                   2042.348751   \n",
            "min                           0.000000                      0.000000   \n",
            "25%                           0.000000                      0.000000   \n",
            "50%                         396.354100                    197.980000   \n",
            "75%                        4250.000000                    780.950000   \n",
            "max                       53762.000000                  34077.420000   \n",
            "\n",
            "       PreviousEarlyRepaymentsBefoleLoan  \\\n",
            "count                       58026.000000   \n",
            "mean                          320.743805   \n",
            "std                          1561.799076   \n",
            "min                             0.000000   \n",
            "25%                             0.000000   \n",
            "50%                             0.000000   \n",
            "75%                             0.000000   \n",
            "max                         48100.000000   \n",
            "\n",
            "       PreviousEarlyRepaymentsCountBeforeLoan  NextPaymentNr  \\\n",
            "count                           134529.000000   97788.000000   \n",
            "mean                                 0.069903       5.178795   \n",
            "std                                  0.359461       7.674427   \n",
            "min                                  0.000000       0.000000   \n",
            "25%                                  0.000000       0.000000   \n",
            "50%                                  0.000000       3.000000   \n",
            "75%                                  0.000000       7.000000   \n",
            "max                                 11.000000      60.000000   \n",
            "\n",
            "       NrOfScheduledPayments  PrincipalDebtServicingCost  \\\n",
            "count           97788.000000                59129.000000   \n",
            "mean               50.126795                    5.264702   \n",
            "std                12.519530                   57.800582   \n",
            "min                 1.000000                    0.000000   \n",
            "25%                36.000000                    0.000000   \n",
            "50%                60.000000                    0.000000   \n",
            "75%                60.000000                    0.000000   \n",
            "max                72.000000                 3325.330000   \n",
            "\n",
            "       InterestAndPenaltyDebtServicingCost  \n",
            "count                         59129.000000  \n",
            "mean                             89.851455  \n",
            "std                             287.449052  \n",
            "min                               0.000000  \n",
            "25%                               0.000000  \n",
            "50%                               0.000000  \n",
            "75%                              17.330000  \n",
            "max                            5295.290000  \n",
            "\n",
            "[8 rows x 70 columns]\n",
            "ReportAsOfEOD                                  0\n",
            "LoanId                                         0\n",
            "LoanNumber                                     0\n",
            "ListedOnUTC                                    0\n",
            "BiddingStartedOn                               0\n",
            "BidsPortfolioManager                           0\n",
            "BidsApi                                        0\n",
            "BidsManual                                     0\n",
            "UserName                                       0\n",
            "NewCreditCustomer                              0\n",
            "LoanApplicationStartedDate                     0\n",
            "LoanDate                                       0\n",
            "ContractEndDate                            75546\n",
            "FirstPaymentDate                               0\n",
            "MaturityDate_Original                          0\n",
            "MaturityDate_Last                              0\n",
            "ApplicationSignedHour                          0\n",
            "ApplicationSignedWeekday                       0\n",
            "VerificationType                              45\n",
            "LanguageCode                                   0\n",
            "Age                                            0\n",
            "DateOfBirth                                    0\n",
            "Gender                                        45\n",
            "Country                                        0\n",
            "AppliedAmount                                  0\n",
            "Amount                                         0\n",
            "Interest                                       0\n",
            "LoanDuration                                   0\n",
            "MonthlyPayment                              6685\n",
            "County                                     36840\n",
            "City                                        9794\n",
            "UseOfLoan                                      0\n",
            "Education                                     45\n",
            "MaritalStatus                                 45\n",
            "NrOfDependants                             98929\n",
            "EmploymentStatus                             197\n",
            "EmploymentDurationCurrentEmployer            876\n",
            "EmploymentPosition                         98439\n",
            "WorkExperience                             98007\n",
            "OccupationArea                                86\n",
            "HomeOwnershipType                           1652\n",
            "IncomeFromPrincipalEmployer                    0\n",
            "IncomeFromPension                              0\n",
            "IncomeFromFamilyAllowance                      0\n",
            "IncomeFromSocialWelfare                        0\n",
            "IncomeFromLeavePay                             0\n",
            "IncomeFromChildSupport                         0\n",
            "IncomeOther                                    0\n",
            "IncomeTotal                                    0\n",
            "ExistingLiabilities                            0\n",
            "LiabilitiesTotal                               0\n",
            "RefinanceLiabilities                           0\n",
            "DebtToIncome                                  45\n",
            "FreeCash                                      45\n",
            "MonthlyPaymentDay                              0\n",
            "ActiveScheduleFirstPaymentReached              0\n",
            "PlannedPrincipalTillDate                   80070\n",
            "PlannedInterestTillDate                     3942\n",
            "LastPaymentOn                               9531\n",
            "CurrentDebtDaysPrimary                     86011\n",
            "DebtOccuredOn                              86011\n",
            "CurrentDebtDaysSecondary                   82279\n",
            "DebtOccuredOnForSecondary                  82279\n",
            "ExpectedLoss                                2636\n",
            "LossGivenDefault                            2636\n",
            "ExpectedReturn                              2636\n",
            "ProbabilityOfDefault                        2636\n",
            "DefaultDate                                91614\n",
            "PrincipalOverdueBySchedule                 14837\n",
            "PlannedPrincipalPostDefault                91614\n",
            "PlannedInterestPostDefault                 91614\n",
            "EAD1                                       91614\n",
            "EAD2                                       91614\n",
            "PrincipalRecovery                          91614\n",
            "InterestRecovery                           91614\n",
            "RecoveryStage                              57288\n",
            "StageActiveSince                           53575\n",
            "ModelVersion                                2636\n",
            "Rating                                      2730\n",
            "EL_V0                                     129960\n",
            "Rating_V0                                 129960\n",
            "EL_V1                                     121607\n",
            "Rating_V1                                 121607\n",
            "Rating_V2                                 109386\n",
            "Status                                         0\n",
            "Restructured                                   0\n",
            "ActiveLateCategory                         86011\n",
            "WorseLateCategory                          45456\n",
            "CreditScoreEsMicroL                        29574\n",
            "CreditScoreEsEquifaxRisk                  122310\n",
            "CreditScoreFiAsiakasTietoRiskGrade        102011\n",
            "CreditScoreEeMini                          62807\n",
            "PrincipalPaymentsMade                          0\n",
            "InterestAndPenaltyPaymentsMade                 0\n",
            "PrincipalWriteOffs                         75400\n",
            "InterestAndPenaltyWriteOffs                75400\n",
            "PrincipalBalance                               0\n",
            "InterestAndPenaltyBalance                      0\n",
            "NoOfPreviousLoansBeforeLoan                    0\n",
            "AmountOfPreviousLoansBeforeLoan                0\n",
            "PreviousRepaymentsBeforeLoan               43161\n",
            "PreviousEarlyRepaymentsBefoleLoan          76503\n",
            "PreviousEarlyRepaymentsCountBeforeLoan         0\n",
            "GracePeriodStart                          115741\n",
            "GracePeriodEnd                            115741\n",
            "NextPaymentDate                            68885\n",
            "NextPaymentNr                              36741\n",
            "NrOfScheduledPayments                      36741\n",
            "ReScheduledOn                              94207\n",
            "PrincipalDebtServicingCost                 75400\n",
            "InterestAndPenaltyDebtServicingCost        75400\n",
            "ActiveLateLastPaymentCategory              82279\n",
            "dtype: int64\n"
          ]
        }
      ],
      "source": [
        "df = pd.read_csv('Bondora_raw.csv')\n",
        "print(df.head())\n",
        "print(df.info())\n",
        "print(df.describe())\n",
        "missing_values = df.isnull().sum()\n",
        "print(missing_values)\n",
        "df.fillna(df.mean(), inplace=True)"
      ]
    },
    {
      "cell_type": "code",
      "execution_count": null,
      "id": "da0a1c66",
      "metadata": {},
      "outputs": [],
      "source": [
        "numerical_features = df.select_dtypes(include=['float64', 'int64']).columns\n",
        "\n",
        "for feature in numerical_features:\n",
        "    plt.figure(figsize=(10, 6))\n",
        "    sns.histplot(df[feature], kde=True, bins=30)\n",
        "    plt.title(f'Distribution of {feature}')\n",
        "    plt.show()\n",
        "for feature in numerical_features:\n",
        "    plt.figure(figsize=(10, 6))\n",
        "    sns.boxplot(x=df[feature])\n",
        "    plt.title(f'Boxplot of {feature}')\n",
        "    plt.show()"
      ]
    },
    {
      "cell_type": "code",
      "execution_count": null,
      "id": "b00e3319",
      "metadata": {},
      "outputs": [],
      "source": [
        "sns.pairplot(df[numerical_features])\n",
        "plt.show()\n",
        "plt.figure(figsize=(12, 8))\n",
        "correlation_matrix = df[numerical_features].corr()\n",
        "sns.heatmap(correlation_matrix, annot=True, cmap='coolwarm')\n",
        "plt.title('Correlation Matrix')\n",
        "plt.show()\n",
        "plt.figure(figsize=(10, 6))\n",
        "sns.scatterplot(x=df['feature_1'], y=df['feature_2'])\n",
        "plt.title('Relationship between Feature_1 and Feature_2')\n",
        "plt.show()"
      ]
    },
    {
      "cell_type": "code",
      "execution_count": null,
      "id": "1b23c26d",
      "metadata": {},
      "outputs": [],
      "source": [
        "sns.pairplot(df[numerical_features])\n",
        "plt.show()\n",
        "plt.figure(figsize=(12, 8))\n",
        "correlation_matrix = df[numerical_features].corr()\n",
        "sns.heatmap(correlation_matrix, annot=True, cmap='coolwarm')\n",
        "plt.title('Correlation Matrix')\n",
        "plt.show()\n",
        "plt.figure(figsize=(10, 6))\n",
        "sns.scatterplot(x=df['feature_1'], y=df['feature_2'])\n",
        "plt.title('Relationship between Feature_1 and Feature_2')\n",
        "plt.show()"
      ]
    }
  ],
  "metadata": {
    "colab": {
      "provenance": []
    },
    "kernelspec": {
      "display_name": "Python 3 (ipykernel)",
      "language": "python",
      "name": "python3"
    },
    "language_info": {
      "codemirror_mode": {
        "name": "ipython",
        "version": 3
      },
      "file_extension": ".py",
      "mimetype": "text/x-python",
      "name": "python",
      "nbconvert_exporter": "python",
      "pygments_lexer": "ipython3",
      "version": "3.11.5"
    }
  },
  "nbformat": 4,
  "nbformat_minor": 5
}
